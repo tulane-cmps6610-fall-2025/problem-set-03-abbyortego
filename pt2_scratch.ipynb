{
 "cells": [
  {
   "cell_type": "code",
   "execution_count": 13,
   "id": "87bc501a",
   "metadata": {},
   "outputs": [],
   "source": [
    "def iterate(f, x, a): \n",
    "    # print('iterate: calling %s x=%s a=%s' % (f.__name__, x, a))\n",
    "    # done. do not change me.\n",
    "    if len(a) == 0:\n",
    "        return x\n",
    "    else:\n",
    "        return iterate(f, f(x, a[0]), a[1:])\n",
    "    #\n",
    "# iterate\n",
    "\n",
    "def countDup(A, a):\n",
    "\n",
    "    def count(key, element):\n",
    "        if element==key[1]:\n",
    "            return [key[0]+1, key[1]]\n",
    "        else:\n",
    "            return [key[0], key[1]]\n",
    "        #\n",
    "    #\n",
    "\n",
    "    return iterate(count, [0, a], A)[0] <= 1 # NOTE: is this allowed? \n",
    "# countDup\n",
    "\n",
    "def my_filter(f, S):\n",
    "    return [s for s in S if f(S, s)]\n",
    "#\n"
   ]
  },
  {
   "cell_type": "code",
   "execution_count": 18,
   "id": "be5fad24",
   "metadata": {},
   "outputs": [
    {
     "name": "stdout",
     "output_type": "stream",
     "text": [
      "[1, 7, 4, 9, 8]\n"
     ]
    }
   ],
   "source": [
    "print(my_filter(countDup, [3, 3, 1, 5, 7, 4, 3, 5, 5, 9, 8, 5]))"
   ]
  }
 ],
 "metadata": {
  "kernelspec": {
   "display_name": "Python 3",
   "language": "python",
   "name": "python3"
  },
  "language_info": {
   "codemirror_mode": {
    "name": "ipython",
    "version": 3
   },
   "file_extension": ".py",
   "mimetype": "text/x-python",
   "name": "python",
   "nbconvert_exporter": "python",
   "pygments_lexer": "ipython3",
   "version": "3.13.7"
  }
 },
 "nbformat": 4,
 "nbformat_minor": 5
}
